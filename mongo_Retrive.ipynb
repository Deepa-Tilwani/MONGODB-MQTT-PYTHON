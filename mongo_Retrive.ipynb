{
 "cells": [
  {
   "cell_type": "code",
   "execution_count": 1,
   "metadata": {},
   "outputs": [],
   "source": [
    "import pymongo"
   ]
  },
  {
   "cell_type": "code",
   "execution_count": 4,
   "metadata": {},
   "outputs": [],
   "source": [
    "from pymongo import MongoClient\n",
    "client = MongoClient()\n",
    "client = MongoClient('localhost', 27017)"
   ]
  },
  {
   "cell_type": "code",
   "execution_count": 11,
   "metadata": {},
   "outputs": [
    {
     "data": {
      "text/plain": [
       "['admin', 'config', 'datacampdb', 'domotics', 'local']"
      ]
     },
     "execution_count": 11,
     "metadata": {},
     "output_type": "execute_result"
    }
   ],
   "source": [
    "client.list_database_names()"
   ]
  },
  {
   "cell_type": "code",
   "execution_count": 12,
   "metadata": {},
   "outputs": [],
   "source": [
    "db = client.domotics"
   ]
  },
  {
   "cell_type": "code",
   "execution_count": 13,
   "metadata": {},
   "outputs": [
    {
     "data": {
      "text/plain": [
       "['mqtt']"
      ]
     },
     "execution_count": 13,
     "metadata": {},
     "output_type": "execute_result"
    }
   ],
   "source": [
    "db.list_collection_names()"
   ]
  },
  {
   "cell_type": "code",
   "execution_count": 14,
   "metadata": {},
   "outputs": [
    {
     "data": {
      "text/plain": [
       "107"
      ]
     },
     "execution_count": 14,
     "metadata": {},
     "output_type": "execute_result"
    }
   ],
   "source": [
    "table=db.mqtt\n",
    "table.count_documents({}) #gives the number of documents in the table"
   ]
  },
  {
   "cell_type": "code",
   "execution_count": 21,
   "metadata": {},
   "outputs": [
    {
     "data": {
      "text/plain": [
       "{'_id': ObjectId('5e7fd8aebead35c5562e2d56'),\n",
       " 'topic': 'test',\n",
       " 'payload': '{\"Temperature\":10,\"Humidity\":50}',\n",
       " 'qos': 0,\n",
       " 'timestamp': 1585436846,\n",
       " 'datetime': '29/03/2020 04:37:26'}"
      ]
     },
     "execution_count": 21,
     "metadata": {},
     "output_type": "execute_result"
    }
   ],
   "source": [
    "table.find_one()"
   ]
  },
  {
   "cell_type": "code",
   "execution_count": 25,
   "metadata": {},
   "outputs": [
    {
     "ename": "SyntaxError",
     "evalue": "invalid syntax (<ipython-input-25-fedfe1d99f28>, line 1)",
     "output_type": "error",
     "traceback": [
      "\u001b[0;36m  File \u001b[0;32m\"<ipython-input-25-fedfe1d99f28>\"\u001b[0;36m, line \u001b[0;32m1\u001b[0m\n\u001b[0;31m    table.find_one('id':5e7fdc2ee7c4cd4ce9f4aca1)\u001b[0m\n\u001b[0m                       ^\u001b[0m\n\u001b[0;31mSyntaxError\u001b[0m\u001b[0;31m:\u001b[0m invalid syntax\n"
     ]
    }
   ],
   "source": [
    "table.find_one('id':5e7fdc2ee7c4cd4ce9f4aca1)"
   ]
  },
  {
   "cell_type": "code",
   "execution_count": 26,
   "metadata": {},
   "outputs": [
    {
     "name": "stdout",
     "output_type": "stream",
     "text": [
      "{'_id': ObjectId('5e7fd8aebead35c5562e2d56'), 'topic': 'test', 'payload': '{\"Temperature\":10,\"Humidity\":50}', 'qos': 0, 'timestamp': 1585436846, 'datetime': '29/03/2020 04:37:26'}\n"
     ]
    }
   ],
   "source": [
    "x = table.find_one()\n",
    "\n",
    "print(x)"
   ]
  },
  {
   "cell_type": "code",
   "execution_count": 27,
   "metadata": {},
   "outputs": [
    {
     "name": "stdout",
     "output_type": "stream",
     "text": [
      "{'_id': ObjectId('5e7fd8aebead35c5562e2d56'), 'topic': 'test', 'payload': '{\"Temperature\":10,\"Humidity\":50}', 'qos': 0, 'timestamp': 1585436846, 'datetime': '29/03/2020 04:37:26'}\n",
      "{'_id': ObjectId('5e7fd8b3bead35c5562e2d57'), 'topic': 'test', 'payload': '{\"Temperature\":10,\"Humidity\":50}', 'qos': 0, 'timestamp': 1585436851, 'datetime': '29/03/2020 04:37:31'}\n",
      "{'_id': ObjectId('5e7fd8b8bead35c5562e2d58'), 'topic': 'test', 'payload': '{\"Temperature\":10,\"Humidity\":50}', 'qos': 0, 'timestamp': 1585436856, 'datetime': '29/03/2020 04:37:36'}\n",
      "{'_id': ObjectId('5e7fd8bdbead35c5562e2d59'), 'topic': 'test', 'payload': '{\"Temperature\":10,\"Humidity\":50}', 'qos': 0, 'timestamp': 1585436861, 'datetime': '29/03/2020 04:37:41'}\n",
      "{'_id': ObjectId('5e7fd8c2bead35c5562e2d5a'), 'topic': 'test', 'payload': '{\"Temperature\":10,\"Humidity\":50}', 'qos': 0, 'timestamp': 1585436866, 'datetime': '29/03/2020 04:37:46'}\n",
      "{'_id': ObjectId('5e7fd8c7bead35c5562e2d5b'), 'topic': 'test', 'payload': '{\"Temperature\":10,\"Humidity\":50}', 'qos': 0, 'timestamp': 1585436871, 'datetime': '29/03/2020 04:37:51'}\n",
      "{'_id': ObjectId('5e7fd8ccbead35c5562e2d5c'), 'topic': 'test', 'payload': '{\"Temperature\":10,\"Humidity\":50}', 'qos': 0, 'timestamp': 1585436876, 'datetime': '29/03/2020 04:37:56'}\n",
      "{'_id': ObjectId('5e7fd8d1bead35c5562e2d5d'), 'topic': 'test', 'payload': '{\"Temperature\":10,\"Humidity\":50}', 'qos': 0, 'timestamp': 1585436881, 'datetime': '29/03/2020 04:38:01'}\n",
      "{'_id': ObjectId('5e7fd8d6bead35c5562e2d5e'), 'topic': 'test', 'payload': '{\"Temperature\":10,\"Humidity\":50}', 'qos': 0, 'timestamp': 1585436886, 'datetime': '29/03/2020 04:38:06'}\n",
      "{'_id': ObjectId('5e7fd8dbbead35c5562e2d5f'), 'topic': 'test', 'payload': '{\"Temperature\":10,\"Humidity\":50}', 'qos': 0, 'timestamp': 1585436891, 'datetime': '29/03/2020 04:38:11'}\n",
      "{'_id': ObjectId('5e7fd8e0bead35c5562e2d60'), 'topic': 'test', 'payload': '{\"Temperature\":10,\"Humidity\":50}', 'qos': 0, 'timestamp': 1585436896, 'datetime': '29/03/2020 04:38:16'}\n",
      "{'_id': ObjectId('5e7fd8e5bead35c5562e2d61'), 'topic': 'test', 'payload': '{\"Temperature\":10,\"Humidity\":50}', 'qos': 0, 'timestamp': 1585436901, 'datetime': '29/03/2020 04:38:21'}\n",
      "{'_id': ObjectId('5e7fd8eabead35c5562e2d62'), 'topic': 'test', 'payload': '{\"Temperature\":10,\"Humidity\":50}', 'qos': 0, 'timestamp': 1585436906, 'datetime': '29/03/2020 04:38:26'}\n",
      "{'_id': ObjectId('5e7fd8efbead35c5562e2d63'), 'topic': 'test', 'payload': '{\"Temperature\":10,\"Humidity\":50}', 'qos': 0, 'timestamp': 1585436911, 'datetime': '29/03/2020 04:38:31'}\n",
      "{'_id': ObjectId('5e7fd8f4bead35c5562e2d64'), 'topic': 'test', 'payload': '{\"Temperature\":10,\"Humidity\":50}', 'qos': 0, 'timestamp': 1585436916, 'datetime': '29/03/2020 04:38:36'}\n",
      "{'_id': ObjectId('5e7fd8f9bead35c5562e2d65'), 'topic': 'test', 'payload': '{\"Temperature\":10,\"Humidity\":50}', 'qos': 0, 'timestamp': 1585436921, 'datetime': '29/03/2020 04:38:41'}\n",
      "{'_id': ObjectId('5e7fd8febead35c5562e2d66'), 'topic': 'test', 'payload': '{\"Temperature\":10,\"Humidity\":50}', 'qos': 0, 'timestamp': 1585436926, 'datetime': '29/03/2020 04:38:46'}\n",
      "{'_id': ObjectId('5e7fd903bead35c5562e2d67'), 'topic': 'test', 'payload': '{\"Temperature\":10,\"Humidity\":50}', 'qos': 0, 'timestamp': 1585436931, 'datetime': '29/03/2020 04:38:51'}\n",
      "{'_id': ObjectId('5e7fd908bead35c5562e2d68'), 'topic': 'test', 'payload': '{\"Temperature\":10,\"Humidity\":50}', 'qos': 0, 'timestamp': 1585436936, 'datetime': '29/03/2020 04:38:56'}\n",
      "{'_id': ObjectId('5e7fd90dbead35c5562e2d69'), 'topic': 'test', 'payload': '{\"Temperature\":10,\"Humidity\":50}', 'qos': 0, 'timestamp': 1585436941, 'datetime': '29/03/2020 04:39:01'}\n",
      "{'_id': ObjectId('5e7fd912bead35c5562e2d6a'), 'topic': 'test', 'payload': '{\"Temperature\":10,\"Humidity\":50}', 'qos': 0, 'timestamp': 1585436946, 'datetime': '29/03/2020 04:39:06'}\n",
      "{'_id': ObjectId('5e7fd917bead35c5562e2d6b'), 'topic': 'test', 'payload': '{\"Temperature\":10,\"Humidity\":50}', 'qos': 0, 'timestamp': 1585436951, 'datetime': '29/03/2020 04:39:11'}\n",
      "{'_id': ObjectId('5e7fd91cbead35c5562e2d6c'), 'topic': 'test', 'payload': '{\"Temperature\":10,\"Humidity\":50}', 'qos': 0, 'timestamp': 1585436956, 'datetime': '29/03/2020 04:39:16'}\n",
      "{'_id': ObjectId('5e7fd921bead35c5562e2d6d'), 'topic': 'test', 'payload': '{\"Temperature\":10,\"Humidity\":50}', 'qos': 0, 'timestamp': 1585436961, 'datetime': '29/03/2020 04:39:21'}\n",
      "{'_id': ObjectId('5e7fd926bead35c5562e2d6e'), 'topic': 'test', 'payload': '{\"Temperature\":10,\"Humidity\":50}', 'qos': 0, 'timestamp': 1585436966, 'datetime': '29/03/2020 04:39:26'}\n",
      "{'_id': ObjectId('5e7fd92bbead35c5562e2d6f'), 'topic': 'test', 'payload': '{\"Temperature\":10,\"Humidity\":50}', 'qos': 0, 'timestamp': 1585436971, 'datetime': '29/03/2020 04:39:31'}\n",
      "{'_id': ObjectId('5e7fd930bead35c5562e2d70'), 'topic': 'test', 'payload': '{\"Temperature\":10,\"Humidity\":50}', 'qos': 0, 'timestamp': 1585436976, 'datetime': '29/03/2020 04:39:36'}\n",
      "{'_id': ObjectId('5e7fd935bead35c5562e2d71'), 'topic': 'test', 'payload': '{\"Temperature\":10,\"Humidity\":50}', 'qos': 0, 'timestamp': 1585436981, 'datetime': '29/03/2020 04:39:41'}\n",
      "{'_id': ObjectId('5e7fd93abead35c5562e2d72'), 'topic': 'test', 'payload': '{\"Temperature\":10,\"Humidity\":50}', 'qos': 0, 'timestamp': 1585436986, 'datetime': '29/03/2020 04:39:46'}\n",
      "{'_id': ObjectId('5e7fd93fbead35c5562e2d73'), 'topic': 'test', 'payload': '{\"Temperature\":10,\"Humidity\":50}', 'qos': 0, 'timestamp': 1585436991, 'datetime': '29/03/2020 04:39:51'}\n",
      "{'_id': ObjectId('5e7fd944bead35c5562e2d74'), 'topic': 'test', 'payload': '{\"Temperature\":10,\"Humidity\":50}', 'qos': 0, 'timestamp': 1585436996, 'datetime': '29/03/2020 04:39:56'}\n",
      "{'_id': ObjectId('5e7fd949bead35c5562e2d75'), 'topic': 'test', 'payload': '{\"Temperature\":10,\"Humidity\":50}', 'qos': 0, 'timestamp': 1585437001, 'datetime': '29/03/2020 04:40:01'}\n",
      "{'_id': ObjectId('5e7fd94ebead35c5562e2d76'), 'topic': 'test', 'payload': '{\"Temperature\":10,\"Humidity\":50}', 'qos': 0, 'timestamp': 1585437006, 'datetime': '29/03/2020 04:40:06'}\n",
      "{'_id': ObjectId('5e7fd953bead35c5562e2d77'), 'topic': 'test', 'payload': '{\"Temperature\":10,\"Humidity\":50}', 'qos': 0, 'timestamp': 1585437011, 'datetime': '29/03/2020 04:40:11'}\n",
      "{'_id': ObjectId('5e7fd958bead35c5562e2d78'), 'topic': 'test', 'payload': '{\"Temperature\":10,\"Humidity\":50}', 'qos': 0, 'timestamp': 1585437016, 'datetime': '29/03/2020 04:40:16'}\n",
      "{'_id': ObjectId('5e7fd95dbead35c5562e2d79'), 'topic': 'test', 'payload': '{\"Temperature\":10,\"Humidity\":50}', 'qos': 0, 'timestamp': 1585437021, 'datetime': '29/03/2020 04:40:21'}\n",
      "{'_id': ObjectId('5e7fd962bead35c5562e2d7a'), 'topic': 'test', 'payload': '{\"Temperature\":10,\"Humidity\":50}', 'qos': 0, 'timestamp': 1585437026, 'datetime': '29/03/2020 04:40:26'}\n",
      "{'_id': ObjectId('5e7fd967bead35c5562e2d7b'), 'topic': 'test', 'payload': '{\"Temperature\":10,\"Humidity\":50}', 'qos': 0, 'timestamp': 1585437031, 'datetime': '29/03/2020 04:40:31'}\n",
      "{'_id': ObjectId('5e7fd96cbead35c5562e2d7c'), 'topic': 'test', 'payload': '{\"Temperature\":10,\"Humidity\":50}', 'qos': 0, 'timestamp': 1585437036, 'datetime': '29/03/2020 04:40:36'}\n",
      "{'_id': ObjectId('5e7fd971bead35c5562e2d7d'), 'topic': 'test', 'payload': '{\"Temperature\":10,\"Humidity\":50}', 'qos': 0, 'timestamp': 1585437041, 'datetime': '29/03/2020 04:40:41'}\n",
      "{'_id': ObjectId('5e7fd976bead35c5562e2d7e'), 'topic': 'test', 'payload': '{\"Temperature\":10,\"Humidity\":50}', 'qos': 0, 'timestamp': 1585437046, 'datetime': '29/03/2020 04:40:46'}\n",
      "{'_id': ObjectId('5e7fd97bbead35c5562e2d7f'), 'topic': 'test', 'payload': '{\"Temperature\":10,\"Humidity\":50}', 'qos': 0, 'timestamp': 1585437051, 'datetime': '29/03/2020 04:40:51'}\n",
      "{'_id': ObjectId('5e7fd980bead35c5562e2d80'), 'topic': 'test', 'payload': '{\"Temperature\":10,\"Humidity\":50}', 'qos': 0, 'timestamp': 1585437056, 'datetime': '29/03/2020 04:40:56'}\n",
      "{'_id': ObjectId('5e7fd985bead35c5562e2d81'), 'topic': 'test', 'payload': '{\"Temperature\":10,\"Humidity\":50}', 'qos': 0, 'timestamp': 1585437061, 'datetime': '29/03/2020 04:41:01'}\n",
      "{'_id': ObjectId('5e7fd98abead35c5562e2d82'), 'topic': 'test', 'payload': '{\"Temperature\":10,\"Humidity\":50}', 'qos': 0, 'timestamp': 1585437066, 'datetime': '29/03/2020 04:41:06'}\n",
      "{'_id': ObjectId('5e7fd98fbead35c5562e2d83'), 'topic': 'test', 'payload': '{\"Temperature\":10,\"Humidity\":50}', 'qos': 0, 'timestamp': 1585437071, 'datetime': '29/03/2020 04:41:11'}\n",
      "{'_id': ObjectId('5e7fd994bead35c5562e2d84'), 'topic': 'test', 'payload': '{\"Temperature\":10,\"Humidity\":50}', 'qos': 0, 'timestamp': 1585437076, 'datetime': '29/03/2020 04:41:16'}\n",
      "{'_id': ObjectId('5e7fd999bead35c5562e2d85'), 'topic': 'test', 'payload': '{\"Temperature\":10,\"Humidity\":50}', 'qos': 0, 'timestamp': 1585437081, 'datetime': '29/03/2020 04:41:21'}\n",
      "{'_id': ObjectId('5e7fd99ebead35c5562e2d86'), 'topic': 'test', 'payload': '{\"Temperature\":10,\"Humidity\":50}', 'qos': 0, 'timestamp': 1585437086, 'datetime': '29/03/2020 04:41:26'}\n",
      "{'_id': ObjectId('5e7fd9a3bead35c5562e2d87'), 'topic': 'test', 'payload': '{\"Temperature\":10,\"Humidity\":50}', 'qos': 0, 'timestamp': 1585437091, 'datetime': '29/03/2020 04:41:31'}\n",
      "{'_id': ObjectId('5e7fd9a8bead35c5562e2d88'), 'topic': 'test', 'payload': '{\"Temperature\":10,\"Humidity\":50}', 'qos': 0, 'timestamp': 1585437096, 'datetime': '29/03/2020 04:41:36'}\n",
      "{'_id': ObjectId('5e7fd9adbead35c5562e2d89'), 'topic': 'test', 'payload': '{\"Temperature\":10,\"Humidity\":50}', 'qos': 0, 'timestamp': 1585437101, 'datetime': '29/03/2020 04:41:41'}\n",
      "{'_id': ObjectId('5e7fd9b2bead35c5562e2d8a'), 'topic': 'test', 'payload': '{\"Temperature\":10,\"Humidity\":50}', 'qos': 0, 'timestamp': 1585437106, 'datetime': '29/03/2020 04:41:46'}\n",
      "{'_id': ObjectId('5e7fd9b7bead35c5562e2d8b'), 'topic': 'test', 'payload': '{\"Temperature\":10,\"Humidity\":50}', 'qos': 0, 'timestamp': 1585437111, 'datetime': '29/03/2020 04:41:51'}\n",
      "{'_id': ObjectId('5e7fd9bcbead35c5562e2d8c'), 'topic': 'test', 'payload': '{\"Temperature\":10,\"Humidity\":50}', 'qos': 0, 'timestamp': 1585437116, 'datetime': '29/03/2020 04:41:56'}\n",
      "{'_id': ObjectId('5e7fd9c1bead35c5562e2d8d'), 'topic': 'test', 'payload': '{\"Temperature\":10,\"Humidity\":50}', 'qos': 0, 'timestamp': 1585437121, 'datetime': '29/03/2020 04:42:01'}\n",
      "{'_id': ObjectId('5e7fd9c6bead35c5562e2d8e'), 'topic': 'test', 'payload': '{\"Temperature\":10,\"Humidity\":50}', 'qos': 0, 'timestamp': 1585437126, 'datetime': '29/03/2020 04:42:06'}\n",
      "{'_id': ObjectId('5e7fd9cbbead35c5562e2d8f'), 'topic': 'test', 'payload': '{\"Temperature\":10,\"Humidity\":50}', 'qos': 0, 'timestamp': 1585437131, 'datetime': '29/03/2020 04:42:11'}\n",
      "{'_id': ObjectId('5e7fd9d0bead35c5562e2d90'), 'topic': 'test', 'payload': '{\"Temperature\":10,\"Humidity\":50}', 'qos': 0, 'timestamp': 1585437136, 'datetime': '29/03/2020 04:42:16'}\n",
      "{'_id': ObjectId('5e7fd9d5bead35c5562e2d91'), 'topic': 'test', 'payload': '{\"Temperature\":10,\"Humidity\":50}', 'qos': 0, 'timestamp': 1585437141, 'datetime': '29/03/2020 04:42:21'}\n",
      "{'_id': ObjectId('5e7fd9dabead35c5562e2d92'), 'topic': 'test', 'payload': '{\"Temperature\":10,\"Humidity\":50}', 'qos': 0, 'timestamp': 1585437146, 'datetime': '29/03/2020 04:42:26'}\n",
      "{'_id': ObjectId('5e7fd9dfbead35c5562e2d93'), 'topic': 'test', 'payload': '{\"Temperature\":10,\"Humidity\":50}', 'qos': 0, 'timestamp': 1585437151, 'datetime': '29/03/2020 04:42:31'}\n",
      "{'_id': ObjectId('5e7fd9e4bead35c5562e2d94'), 'topic': 'test', 'payload': '{\"Temperature\":10,\"Humidity\":50}', 'qos': 0, 'timestamp': 1585437156, 'datetime': '29/03/2020 04:42:36'}\n",
      "{'_id': ObjectId('5e7fd9e9bead35c5562e2d95'), 'topic': 'test', 'payload': '{\"Temperature\":10,\"Humidity\":50}', 'qos': 0, 'timestamp': 1585437161, 'datetime': '29/03/2020 04:42:41'}\n",
      "{'_id': ObjectId('5e7fd9eebead35c5562e2d96'), 'topic': 'test', 'payload': '{\"Temperature\":10,\"Humidity\":50}', 'qos': 0, 'timestamp': 1585437166, 'datetime': '29/03/2020 04:42:46'}\n",
      "{'_id': ObjectId('5e7fd9f3bead35c5562e2d97'), 'topic': 'test', 'payload': '{\"Temperature\":10,\"Humidity\":50}', 'qos': 0, 'timestamp': 1585437171, 'datetime': '29/03/2020 04:42:51'}\n",
      "{'_id': ObjectId('5e7fd9f8bead35c5562e2d98'), 'topic': 'test', 'payload': '{\"Temperature\":10,\"Humidity\":50}', 'qos': 0, 'timestamp': 1585437176, 'datetime': '29/03/2020 04:42:56'}\n",
      "{'_id': ObjectId('5e7fd9fdbead35c5562e2d99'), 'topic': 'test', 'payload': '{\"Temperature\":10,\"Humidity\":50}', 'qos': 0, 'timestamp': 1585437181, 'datetime': '29/03/2020 04:43:01'}\n",
      "{'_id': ObjectId('5e7fda02bead35c5562e2d9a'), 'topic': 'test', 'payload': '{\"Temperature\":10,\"Humidity\":50}', 'qos': 0, 'timestamp': 1585437186, 'datetime': '29/03/2020 04:43:06'}\n",
      "{'_id': ObjectId('5e7fda07bead35c5562e2d9b'), 'topic': 'test', 'payload': '{\"Temperature\":10,\"Humidity\":50}', 'qos': 0, 'timestamp': 1585437191, 'datetime': '29/03/2020 04:43:11'}\n",
      "{'_id': ObjectId('5e7fda0cbead35c5562e2d9c'), 'topic': 'test', 'payload': '{\"Temperature\":10,\"Humidity\":50}', 'qos': 0, 'timestamp': 1585437196, 'datetime': '29/03/2020 04:43:16'}\n",
      "{'_id': ObjectId('5e7fda11bead35c5562e2d9d'), 'topic': 'test', 'payload': '{\"Temperature\":10,\"Humidity\":50}', 'qos': 0, 'timestamp': 1585437201, 'datetime': '29/03/2020 04:43:21'}\n",
      "{'_id': ObjectId('5e7fda16bead35c5562e2d9e'), 'topic': 'test', 'payload': '{\"Temperature\":10,\"Humidity\":50}', 'qos': 0, 'timestamp': 1585437206, 'datetime': '29/03/2020 04:43:26'}\n",
      "{'_id': ObjectId('5e7fda1bbead35c5562e2d9f'), 'topic': 'test', 'payload': '{\"Temperature\":10,\"Humidity\":50}', 'qos': 0, 'timestamp': 1585437211, 'datetime': '29/03/2020 04:43:31'}\n",
      "{'_id': ObjectId('5e7fda20bead35c5562e2da0'), 'topic': 'test', 'payload': '{\"Temperature\":10,\"Humidity\":50}', 'qos': 0, 'timestamp': 1585437216, 'datetime': '29/03/2020 04:43:36'}\n",
      "{'_id': ObjectId('5e7fda25bead35c5562e2da1'), 'topic': 'test', 'payload': '{\"Temperature\":10,\"Humidity\":50}', 'qos': 0, 'timestamp': 1585437221, 'datetime': '29/03/2020 04:43:41'}\n",
      "{'_id': ObjectId('5e7fda2abead35c5562e2da2'), 'topic': 'test', 'payload': '{\"Temperature\":10,\"Humidity\":50}', 'qos': 0, 'timestamp': 1585437226, 'datetime': '29/03/2020 04:43:46'}\n",
      "{'_id': ObjectId('5e7fda2fbead35c5562e2da3'), 'topic': 'test', 'payload': '{\"Temperature\":10,\"Humidity\":50}', 'qos': 0, 'timestamp': 1585437231, 'datetime': '29/03/2020 04:43:51'}\n",
      "{'_id': ObjectId('5e7fda34bead35c5562e2da4'), 'topic': 'test', 'payload': '{\"Temperature\":10,\"Humidity\":50}', 'qos': 0, 'timestamp': 1585437236, 'datetime': '29/03/2020 04:43:56'}\n",
      "{'_id': ObjectId('5e7fda39bead35c5562e2da5'), 'topic': 'test', 'payload': '{\"Temperature\":10,\"Humidity\":50}', 'qos': 0, 'timestamp': 1585437241, 'datetime': '29/03/2020 04:44:01'}\n",
      "{'_id': ObjectId('5e7fda3ebead35c5562e2da6'), 'topic': 'test', 'payload': '{\"Temperature\":10,\"Humidity\":50}', 'qos': 0, 'timestamp': 1585437246, 'datetime': '29/03/2020 04:44:06'}\n",
      "{'_id': ObjectId('5e7fda43bead35c5562e2da7'), 'topic': 'test', 'payload': '{\"Temperature\":10,\"Humidity\":50}', 'qos': 0, 'timestamp': 1585437251, 'datetime': '29/03/2020 04:44:11'}\n",
      "{'_id': ObjectId('5e7fda48bead35c5562e2da8'), 'topic': 'test', 'payload': '{\"Temperature\":10,\"Humidity\":50}', 'qos': 0, 'timestamp': 1585437256, 'datetime': '29/03/2020 04:44:16'}\n",
      "{'_id': ObjectId('5e7fda4dbead35c5562e2da9'), 'topic': 'test', 'payload': '{\"Temperature\":10,\"Humidity\":50}', 'qos': 0, 'timestamp': 1585437261, 'datetime': '29/03/2020 04:44:21'}\n",
      "{'_id': ObjectId('5e7fda52bead35c5562e2daa'), 'topic': 'test', 'payload': '{\"Temperature\":10,\"Humidity\":50}', 'qos': 0, 'timestamp': 1585437266, 'datetime': '29/03/2020 04:44:26'}\n",
      "{'_id': ObjectId('5e7fda57bead35c5562e2dab'), 'topic': 'test', 'payload': '{\"Temperature\":10,\"Humidity\":50}', 'qos': 0, 'timestamp': 1585437271, 'datetime': '29/03/2020 04:44:31'}\n",
      "{'_id': ObjectId('5e7fdbe8e7c4cd4ce9f4ac93'), 'topic': 'test', 'payload': '{\"Temperature\":10,\"Humidity\":50}', 'qos': 0, 'timestamp': 1585437672, 'datetime': '29/03/2020 04:51:12'}\n",
      "{'_id': ObjectId('5e7fdbede7c4cd4ce9f4ac94'), 'topic': 'test', 'payload': '{\"Temperature\":10,\"Humidity\":50}', 'qos': 0, 'timestamp': 1585437677, 'datetime': '29/03/2020 04:51:17'}\n",
      "{'_id': ObjectId('5e7fdbf2e7c4cd4ce9f4ac95'), 'topic': 'test', 'payload': '{\"Temperature\":10,\"Humidity\":50}', 'qos': 0, 'timestamp': 1585437682, 'datetime': '29/03/2020 04:51:22'}\n",
      "{'_id': ObjectId('5e7fdbf7e7c4cd4ce9f4ac96'), 'topic': 'test', 'payload': '{\"Temperature\":10,\"Humidity\":50}', 'qos': 0, 'timestamp': 1585437687, 'datetime': '29/03/2020 04:51:27'}\n",
      "{'_id': ObjectId('5e7fdbfce7c4cd4ce9f4ac97'), 'topic': 'test', 'payload': '{\"Temperature\":10,\"Humidity\":50}', 'qos': 0, 'timestamp': 1585437692, 'datetime': '29/03/2020 04:51:32'}\n",
      "{'_id': ObjectId('5e7fdc01e7c4cd4ce9f4ac98'), 'topic': 'test', 'payload': '{\"Temperature\":10,\"Humidity\":50}', 'qos': 0, 'timestamp': 1585437697, 'datetime': '29/03/2020 04:51:37'}\n",
      "{'_id': ObjectId('5e7fdc06e7c4cd4ce9f4ac99'), 'topic': 'test', 'payload': '{\"Temperature\":10,\"Humidity\":50}', 'qos': 0, 'timestamp': 1585437702, 'datetime': '29/03/2020 04:51:42'}\n",
      "{'_id': ObjectId('5e7fdc0be7c4cd4ce9f4ac9a'), 'topic': 'test', 'payload': '{\"Temperature\":10,\"Humidity\":50}', 'qos': 0, 'timestamp': 1585437707, 'datetime': '29/03/2020 04:51:47'}\n",
      "{'_id': ObjectId('5e7fdc10e7c4cd4ce9f4ac9b'), 'topic': 'test', 'payload': '{\"Temperature\":10,\"Humidity\":50}', 'qos': 0, 'timestamp': 1585437712, 'datetime': '29/03/2020 04:51:52'}\n",
      "{'_id': ObjectId('5e7fdc15e7c4cd4ce9f4ac9c'), 'topic': 'test', 'payload': '{\"Temperature\":10,\"Humidity\":50}', 'qos': 0, 'timestamp': 1585437717, 'datetime': '29/03/2020 04:51:57'}\n",
      "{'_id': ObjectId('5e7fdc1ae7c4cd4ce9f4ac9d'), 'topic': 'test', 'payload': '{\"Temperature\":10,\"Humidity\":50}', 'qos': 0, 'timestamp': 1585437722, 'datetime': '29/03/2020 04:52:02'}\n",
      "{'_id': ObjectId('5e7fdc1fe7c4cd4ce9f4ac9e'), 'topic': 'test', 'payload': '{\"Temperature\":10,\"Humidity\":50}', 'qos': 0, 'timestamp': 1585437727, 'datetime': '29/03/2020 04:52:07'}\n",
      "{'_id': ObjectId('5e7fdc24e7c4cd4ce9f4ac9f'), 'topic': 'test', 'payload': '{\"Temperature\":10,\"Humidity\":50}', 'qos': 0, 'timestamp': 1585437732, 'datetime': '29/03/2020 04:52:12'}\n",
      "{'_id': ObjectId('5e7fdc29e7c4cd4ce9f4aca0'), 'topic': 'test', 'payload': '{\"Temperature\":10,\"Humidity\":50}', 'qos': 0, 'timestamp': 1585437737, 'datetime': '29/03/2020 04:52:17'}\n",
      "{'_id': ObjectId('5e7fdc2ee7c4cd4ce9f4aca1'), 'topic': 'test', 'payload': '{\"Temperature\":10,\"Humidity\":50}', 'qos': 0, 'timestamp': 1585437742, 'datetime': '29/03/2020 04:52:22'}\n",
      "{'_id': ObjectId('5e7fdc33e7c4cd4ce9f4aca2'), 'topic': 'test', 'payload': '{\"Temperature\":10,\"Humidity\":50}', 'qos': 0, 'timestamp': 1585437747, 'datetime': '29/03/2020 04:52:27'}\n",
      "{'_id': ObjectId('5e7fdc38e7c4cd4ce9f4aca3'), 'topic': 'test', 'payload': '{\"Temperature\":10,\"Humidity\":50}', 'qos': 0, 'timestamp': 1585437752, 'datetime': '29/03/2020 04:52:32'}\n",
      "{'_id': ObjectId('5e7fdc3de7c4cd4ce9f4aca4'), 'topic': 'test', 'payload': '{\"Temperature\":10,\"Humidity\":50}', 'qos': 0, 'timestamp': 1585437757, 'datetime': '29/03/2020 04:52:37'}\n",
      "{'_id': ObjectId('5e7fdc42e7c4cd4ce9f4aca5'), 'topic': 'test', 'payload': '{\"Temperature\":10,\"Humidity\":50}', 'qos': 0, 'timestamp': 1585437762, 'datetime': '29/03/2020 04:52:42'}\n",
      "{'_id': ObjectId('5e7fdc47e7c4cd4ce9f4aca6'), 'topic': 'test', 'payload': '{\"Temperature\":10,\"Humidity\":50}', 'qos': 0, 'timestamp': 1585437767, 'datetime': '29/03/2020 04:52:47'}\n",
      "{'_id': ObjectId('5e7fdc4ce7c4cd4ce9f4aca7'), 'topic': 'test', 'payload': '{\"Temperature\":10,\"Humidity\":50}', 'qos': 0, 'timestamp': 1585437772, 'datetime': '29/03/2020 04:52:52'}\n",
      "{'_id': 'qwertyui123456', 'topic': 'someone', 'payload': '{\"Temperature\":10,\"Humidity\":50}', 'datetime': '29/03/2020 04:37:26'}\n"
     ]
    }
   ],
   "source": [
    "for x in table.find():\n",
    "  print(x) #returning all set of documents"
   ]
  },
  {
   "cell_type": "code",
   "execution_count": 19,
   "metadata": {},
   "outputs": [
    {
     "data": {
      "text/plain": [
       "'qwertyui123456'"
      ]
     },
     "execution_count": 19,
     "metadata": {},
     "output_type": "execute_result"
    }
   ],
   "source": [
    "post = {\"_id\": 'qwertyui123456',\n",
    "        'topic': 'someone', \n",
    "        'payload':'{\"Temperature\":10,\"Humidity\":50}', \n",
    "        'datetime': '29/03/2020 04:37:26'}\n",
    "        \n",
    "post_id = table.insert_one(post).inserted_id\n",
    "post_id"
   ]
  },
  {
   "cell_type": "code",
   "execution_count": 20,
   "metadata": {},
   "outputs": [
    {
     "data": {
      "text/plain": [
       "108"
      ]
     },
     "execution_count": 20,
     "metadata": {},
     "output_type": "execute_result"
    }
   ],
   "source": [
    "table.count_documents({})"
   ]
  },
  {
   "cell_type": "code",
   "execution_count": null,
   "metadata": {},
   "outputs": [],
   "source": []
  },
  {
   "cell_type": "code",
   "execution_count": null,
   "metadata": {},
   "outputs": [],
   "source": []
  },
  {
   "cell_type": "code",
   "execution_count": null,
   "metadata": {},
   "outputs": [],
   "source": []
  },
  {
   "cell_type": "code",
   "execution_count": null,
   "metadata": {},
   "outputs": [],
   "source": []
  },
  {
   "cell_type": "code",
   "execution_count": null,
   "metadata": {},
   "outputs": [],
   "source": []
  },
  {
   "cell_type": "code",
   "execution_count": null,
   "metadata": {},
   "outputs": [],
   "source": []
  },
  {
   "cell_type": "code",
   "execution_count": null,
   "metadata": {},
   "outputs": [],
   "source": []
  }
 ],
 "metadata": {
  "kernelspec": {
   "display_name": "Python 3",
   "language": "python",
   "name": "python3"
  },
  "language_info": {
   "codemirror_mode": {
    "name": "ipython",
    "version": 3
   },
   "file_extension": ".py",
   "mimetype": "text/x-python",
   "name": "python",
   "nbconvert_exporter": "python",
   "pygments_lexer": "ipython3",
   "version": "3.7.6"
  }
 },
 "nbformat": 4,
 "nbformat_minor": 4
}
